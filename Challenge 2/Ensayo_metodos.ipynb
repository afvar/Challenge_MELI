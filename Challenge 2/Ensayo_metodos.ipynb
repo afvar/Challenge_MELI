{
 "cells": [
  {
   "cell_type": "markdown",
   "id": "2a763cbc-657a-4efa-ae80-155a97b6048e",
   "metadata": {},
   "source": [
    "# TF-IDF"
   ]
  },
  {
   "cell_type": "raw",
   "id": "0f3c3896-d307-4d1b-9de3-d9ce1562749b",
   "metadata": {
    "jp-MarkdownHeadingCollapsed": true
   },
   "source": [
    "# Instalación de Librerías\n",
    "pip install -r requirements.txt"
   ]
  },
  {
   "cell_type": "code",
   "execution_count": 5,
   "id": "24e9d32c-1625-45e6-a182-4b42e78273e3",
   "metadata": {},
   "outputs": [],
   "source": [
    "# Librerías\n",
    "import pandas as pd\n",
    "from sklearn.feature_extraction.text import TfidfVectorizer\n",
    "from sklearn.metrics.pairwise import cosine_similarity"
   ]
  },
  {
   "cell_type": "code",
   "execution_count": 6,
   "id": "57169032-563b-4cc5-9ef8-5c77210476d0",
   "metadata": {},
   "outputs": [],
   "source": [
    "items_df = pd.read_csv('Data/items_titles.csv', encoding = 'UTF-8')"
   ]
  },
  {
   "cell_type": "code",
   "execution_count": 7,
   "id": "e4311b75-8c75-4e26-bcfb-e52c0f9ba981",
   "metadata": {},
   "outputs": [],
   "source": [
    "# Preprocesamiento: Convertir a minúsculas y eliminar caracteres especiales\n",
    "items_df['processed_titles'] = items_df['ITE_ITEM_TITLE'].str.lower().str.replace('[^\\w\\s]', '', regex=True)\n",
    "\n",
    "# Vectorización TF-IDF\n",
    "vectorizer = TfidfVectorizer()\n",
    "tfidf_matrix = vectorizer.fit_transform(items_df['processed_titles'])"
   ]
  },
  {
   "cell_type": "code",
   "execution_count": 8,
   "id": "2e0dbbdf-760e-47dc-a64a-eeee15bab1cd",
   "metadata": {},
   "outputs": [
    {
     "data": {
      "text/plain": [
       "<30000x17676 sparse matrix of type '<class 'numpy.float64'>'\n",
       "\twith 204269 stored elements in Compressed Sparse Row format>"
      ]
     },
     "execution_count": 8,
     "metadata": {},
     "output_type": "execute_result"
    }
   ],
   "source": [
    "tfidf_matrix"
   ]
  },
  {
   "cell_type": "code",
   "execution_count": 9,
   "id": "2290618a-0d16-4fc5-b08c-6460ffe7489f",
   "metadata": {},
   "outputs": [],
   "source": [
    "# Preprocesamiento: Convertir a minúsculas y eliminar caracteres especiales\n",
    "items_df['processed_titles'] = items_df['ITE_ITEM_TITLE'].str.lower().str.replace('[^\\w\\s]', '', regex=True)\n",
    "\n",
    "# Vectorización TF-IDF\n",
    "vectorizer = TfidfVectorizer()\n",
    "tfidf_matrix = vectorizer.fit_transform(items_df['processed_titles'])\n",
    "\n",
    "# Cálculo de Similitud del Coseno\n",
    "cosine_sim = cosine_similarity(tfidf_matrix)\n",
    "\n",
    "# Mostrar la matriz de similitud para los primeros 5 productos como ejemplo\n",
    "cosine_sim_df = pd.DataFrame(cosine_sim, index=items_df['ITE_ITEM_TITLE'], columns=items_df['ITE_ITEM_TITLE'])"
   ]
  },
  {
   "cell_type": "code",
   "execution_count": 10,
   "id": "6d47d113-344c-489e-8a51-2b0d25518a59",
   "metadata": {},
   "outputs": [
    {
     "data": {
      "text/plain": [
       "Index(['Tênis Ascension Posh Masculino - Preto E Vermelho ',\n",
       "       'Tenis Para Caminhada Super Levinho Spider Corrida ',\n",
       "       'Tênis Feminino Le Parc Hocks Black/ice Original Envio Já',\n",
       "       'Tênis Olympikus Esportivo Academia Nova Tendência Triunfo ',\n",
       "       'Inteligente Led Bicicleta Tauda Luz Usb Bicicleta Carregáve',\n",
       "       'Tênis Casual Masculino Zarato 941 Preto 632',\n",
       "       'Tênis Infantil Ortopasso Conforto Jogging',\n",
       "       'Tv Samsung Qled 8k Q800t Semi Nova',\n",
       "       'Tênis Usthemp Short Temático - Maria Vira-lata 2',\n",
       "       'Sapatênis West Coast Urban Couro Masculino',\n",
       "       ...\n",
       "       'Tênis adidas Lite Racer 2.0 Feminino Preto Original + Nfe',\n",
       "       'Ténis Running Para Corrida Masculino Treino Esportivo ',\n",
       "       'Tênis Nike Zoom Javelin Elite', 'Tênis Feminino Dakota Kicks G0984',\n",
       "       'Air Force Shadow Mystic Navy',\n",
       "       'Tênis Vans Old Skool I Love My Vans - Usado - Feminino',\n",
       "       'Tênis Feminino Preto Moleca 5296155',\n",
       "       'Tenis Botinha Com Pelo Via Marte Original Lançamento',\n",
       "       'Tênis Slip On Feminino Masculino Original Sapato Xadrez Mule',\n",
       "       'Bicicleta Nathor Rosa Infantil Sem Pedal Balance Aro 12'],\n",
       "      dtype='object', name='ITE_ITEM_TITLE', length=30000)"
      ]
     },
     "execution_count": 10,
     "metadata": {},
     "output_type": "execute_result"
    }
   ],
   "source": [
    "cosine_sim_df.columns"
   ]
  },
  {
   "cell_type": "code",
   "execution_count": 11,
   "id": "110a21d8-7bdb-4b16-80de-425f7f36ca8c",
   "metadata": {},
   "outputs": [
    {
     "data": {
      "text/plain": [
       "ITE_ITEM_TITLE\n",
       "Tenis Botinha Com Pelo Via Marte Original Lançamento            1.000000\n",
       "Botinha Com Pelo Tenis Via Marte Outono Inverno Lançamento      0.750508\n",
       "Tênis Botinha Feminino Via Marte Com Pelo 21-4xxi               0.685678\n",
       "Tênis Cano Alto Botinha Via Marte Forrada Pelo                  0.618034\n",
       "Tênis Via Marte Original                                        0.546307\n",
       "                                                                  ...   \n",
       "Tênis Usthemp Short Temático - Stonerose                       0.000000\n",
       "Tênis Ascension Run Infantil - Gelo E Pink                      0.000000\n",
       "Kit 2 Pares De Tênis Meia Feminino Do 34 Ao 40 Frete Grátis     0.000000\n",
       "Tênis Caminhada Academia Branco Pamilha Gel Pu                  0.000000\n",
       "Bicicleta Nathor Rosa Infantil Sem Pedal Balance Aro 12         0.000000\n",
       "Name: Tenis Botinha Com Pelo Via Marte Original Lançamento, Length: 30000, dtype: float64"
      ]
     },
     "execution_count": 11,
     "metadata": {},
     "output_type": "execute_result"
    }
   ],
   "source": [
    "cosine_sim_df['Tenis Botinha Com Pelo Via Marte Original Lançamento'].sort_values(ascending=False)"
   ]
  },
  {
   "cell_type": "markdown",
   "id": "246eddbf-4d3c-4078-bd47-ab545ffe17d9",
   "metadata": {},
   "source": [
    "# WORD EMBEDDINGS"
   ]
  },
  {
   "cell_type": "raw",
   "id": "1ce017c7-fa0d-4596-ab47-043dd1cb49ca",
   "metadata": {
    "scrolled": true
   },
   "source": [
    "pip install gensim\n"
   ]
  },
  {
   "cell_type": "code",
   "execution_count": 12,
   "id": "28b8176d-bfb4-4271-a5f6-44e18145fd72",
   "metadata": {},
   "outputs": [],
   "source": [
    "from gensim.models import Word2Vec\n",
    "import pandas as pd"
   ]
  },
  {
   "cell_type": "code",
   "execution_count": 13,
   "id": "4930574f-d79e-4e33-928c-e53838c84799",
   "metadata": {},
   "outputs": [
    {
     "data": {
      "text/html": [
       "<div>\n",
       "<style scoped>\n",
       "    .dataframe tbody tr th:only-of-type {\n",
       "        vertical-align: middle;\n",
       "    }\n",
       "\n",
       "    .dataframe tbody tr th {\n",
       "        vertical-align: top;\n",
       "    }\n",
       "\n",
       "    .dataframe thead th {\n",
       "        text-align: right;\n",
       "    }\n",
       "</style>\n",
       "<table border=\"1\" class=\"dataframe\">\n",
       "  <thead>\n",
       "    <tr style=\"text-align: right;\">\n",
       "      <th></th>\n",
       "      <th>ITE_ITEM_TITLE</th>\n",
       "      <th>processed_titles</th>\n",
       "    </tr>\n",
       "  </thead>\n",
       "  <tbody>\n",
       "  </tbody>\n",
       "</table>\n",
       "</div>"
      ],
      "text/plain": [
       "Empty DataFrame\n",
       "Columns: [ITE_ITEM_TITLE, processed_titles]\n",
       "Index: []"
      ]
     },
     "execution_count": 13,
     "metadata": {},
     "output_type": "execute_result"
    }
   ],
   "source": [
    "items_df[items_df['ITE_ITEM_TITLE']=='Tenis Botinha Com Pelo Via Marte Original Lançamento ']"
   ]
  },
  {
   "cell_type": "code",
   "execution_count": 14,
   "id": "1bd6ae17-b21f-4c86-bf3c-f2edef45f2ae",
   "metadata": {},
   "outputs": [],
   "source": [
    "items_df = pd.read_csv('Data/items_titles.csv')"
   ]
  },
  {
   "cell_type": "code",
   "execution_count": 15,
   "id": "6fd291ef-ee89-49ae-b11a-400827ff3d90",
   "metadata": {},
   "outputs": [],
   "source": [
    "items_df['processed_titles'] = items_df['ITE_ITEM_TITLE'].str.lower().str.replace('[^\\w\\s]', '', regex=True).str.split()"
   ]
  },
  {
   "cell_type": "code",
   "execution_count": 16,
   "id": "44bd8f77-7fc7-41e6-bace-fafbc2e9fd0b",
   "metadata": {},
   "outputs": [],
   "source": [
    "model = Word2Vec(items_df['processed_titles'].tolist(), vector_size=10000, window=5, min_count=1, workers=4)"
   ]
  },
  {
   "cell_type": "code",
   "execution_count": 17,
   "id": "bce8caca-d929-4b7a-8ea6-698352baba31",
   "metadata": {},
   "outputs": [],
   "source": [
    "model.save(\"word2vec.model\")"
   ]
  },
  {
   "cell_type": "code",
   "execution_count": 18,
   "id": "7604d47e-a718-4ef8-b140-1c14b3e7d80d",
   "metadata": {},
   "outputs": [],
   "source": [
    "# Obtener el vector (embedding) de una palabra específica\n",
    "word_vector = model.wv['tênis']\n",
    "\n",
    "# Nota: 'model.wv' es un objeto KeyedVectors. Si estás utilizando un modelo preentrenado cargado con KeyedVectors, \n",
    "# simplemente usa 'model' en lugar de 'model.wv'.\n"
   ]
  },
  {
   "cell_type": "code",
   "execution_count": 19,
   "id": "4a65b7c7-8bb0-4dd3-ba25-f35acaefbf7e",
   "metadata": {},
   "outputs": [
    {
     "data": {
      "text/plain": [
       "0.9182889"
      ]
     },
     "execution_count": 19,
     "metadata": {},
     "output_type": "execute_result"
    }
   ],
   "source": [
    "similarity = model.wv.similarity('tênis', 'tenis')\n",
    "similarity"
   ]
  },
  {
   "cell_type": "code",
   "execution_count": 20,
   "id": "42b2dc3c-2ef0-4a97-9247-3538037eecc8",
   "metadata": {},
   "outputs": [],
   "source": [
    "import numpy as np\n",
    "\n",
    "# Suponiendo que 'document' es una lista de palabras\n",
    "document_vector = np.mean([model.wv[word] for word in items_df['processed_titles'][0] if word in model.wv], axis=0)\n",
    "document_vector_1 = np.mean([model.wv[word] for word in items_df['processed_titles'][1] if word in model.wv], axis=0)"
   ]
  },
  {
   "cell_type": "code",
   "execution_count": 21,
   "id": "874a8a7d-7473-4d0f-892b-0ce15a2a71d1",
   "metadata": {},
   "outputs": [],
   "source": [
    "from sklearn.metrics.pairwise import cosine_similarity\n",
    "cosine_sim = cosine_similarity([document_vector, document_vector_1])"
   ]
  },
  {
   "cell_type": "code",
   "execution_count": 22,
   "id": "04226ac1-673d-46f2-a2f6-96ab7a046351",
   "metadata": {},
   "outputs": [
    {
     "data": {
      "text/plain": [
       "array([[0.99999964, 0.9497983 ],\n",
       "       [0.9497983 , 1.0000001 ]], dtype=float32)"
      ]
     },
     "execution_count": 22,
     "metadata": {},
     "output_type": "execute_result"
    }
   ],
   "source": [
    "cosine_sim"
   ]
  },
  {
   "cell_type": "code",
   "execution_count": 23,
   "id": "ac28464b-b8e1-40ad-bfef-732c17a4b6af",
   "metadata": {},
   "outputs": [
    {
     "data": {
      "text/html": [
       "<div>\n",
       "<style scoped>\n",
       "    .dataframe tbody tr th:only-of-type {\n",
       "        vertical-align: middle;\n",
       "    }\n",
       "\n",
       "    .dataframe tbody tr th {\n",
       "        vertical-align: top;\n",
       "    }\n",
       "\n",
       "    .dataframe thead th {\n",
       "        text-align: right;\n",
       "    }\n",
       "</style>\n",
       "<table border=\"1\" class=\"dataframe\">\n",
       "  <thead>\n",
       "    <tr style=\"text-align: right;\">\n",
       "      <th></th>\n",
       "      <th>ITE_ITEM_TITLE</th>\n",
       "      <th>processed_titles</th>\n",
       "    </tr>\n",
       "  </thead>\n",
       "  <tbody>\n",
       "    <tr>\n",
       "      <th>0</th>\n",
       "      <td>Tênis Ascension Posh Masculino - Preto E Verme...</td>\n",
       "      <td>[tênis, ascension, posh, masculino, preto, e, ...</td>\n",
       "    </tr>\n",
       "    <tr>\n",
       "      <th>1</th>\n",
       "      <td>Tenis Para Caminhada Super Levinho Spider Corr...</td>\n",
       "      <td>[tenis, para, caminhada, super, levinho, spide...</td>\n",
       "    </tr>\n",
       "  </tbody>\n",
       "</table>\n",
       "</div>"
      ],
      "text/plain": [
       "                                      ITE_ITEM_TITLE  \\\n",
       "0  Tênis Ascension Posh Masculino - Preto E Verme...   \n",
       "1  Tenis Para Caminhada Super Levinho Spider Corr...   \n",
       "\n",
       "                                    processed_titles  \n",
       "0  [tênis, ascension, posh, masculino, preto, e, ...  \n",
       "1  [tenis, para, caminhada, super, levinho, spide...  "
      ]
     },
     "execution_count": 23,
     "metadata": {},
     "output_type": "execute_result"
    }
   ],
   "source": [
    "items_df.head(2)"
   ]
  }
 ],
 "metadata": {
  "kernelspec": {
   "display_name": "Python 3 (ipykernel)",
   "language": "python",
   "name": "python3"
  },
  "language_info": {
   "codemirror_mode": {
    "name": "ipython",
    "version": 3
   },
   "file_extension": ".py",
   "mimetype": "text/x-python",
   "name": "python",
   "nbconvert_exporter": "python",
   "pygments_lexer": "ipython3",
   "version": "3.8.18"
  }
 },
 "nbformat": 4,
 "nbformat_minor": 5
}
