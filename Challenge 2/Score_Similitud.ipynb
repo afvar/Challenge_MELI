{
 "cells": [
  {
   "cell_type": "raw",
   "id": "0399d650-163e-4b68-9668-b43bdcd7da9b",
   "metadata": {},
   "source": [
    "# Instalación de Librerías\n",
    "pip install -r requirements.txt"
   ]
  },
  {
   "cell_type": "code",
   "execution_count": 1,
   "id": "47345bc0-3368-4f7b-b71f-bd97e709f0d4",
   "metadata": {},
   "outputs": [],
   "source": [
    "# Librerías\n",
    "import time\n",
    "import pandas as pd\n",
    "import numpy as np\n",
    "from sklearn.feature_extraction.text import TfidfVectorizer\n",
    "from sklearn.metrics.pairwise import cosine_similarity\n",
    "#scipy.spatial.distance.cdist\n",
    "from gensim.models import Word2Vec\n",
    "from collections import defaultdict\n",
    "import matplotlib.pyplot as plt\n",
    "import seaborn as sns"
   ]
  },
  {
   "cell_type": "markdown",
   "id": "caae91eb-5279-4a84-b357-d4097c0fda45",
   "metadata": {},
   "source": [
    "# Valores de prueba"
   ]
  },
  {
   "cell_type": "code",
   "execution_count": 2,
   "id": "d95bf27d-45d2-4bd2-a53d-0b61a542adfa",
   "metadata": {},
   "outputs": [],
   "source": [
    "tiempo_ejecucion = 0\n",
    "tamanos_muestras = [10, 50, 100, 500, 1000, 5000, 10000, 15000, 20000, 25000, 30000]\n",
    "regs_prueba = pd.read_csv('Data/items_titles.csv'\n",
    "                          , encoding = 'UTF-8'\n",
    "                          ).sample(10, random_state = 624)['ITE_ITEM_TITLE'].str.strip().to_list()"
   ]
  },
  {
   "cell_type": "markdown",
   "id": "1d3e5e9b-2c67-44a4-9375-62a59872e297",
   "metadata": {},
   "source": [
    "## Word Embeddings"
   ]
  },
  {
   "cell_type": "code",
   "execution_count": 3,
   "id": "fccbb8d7-6d30-4098-a8fd-5357a778d28a",
   "metadata": {},
   "outputs": [],
   "source": [
    "def similitud_word_embedding(item, ruta_entrada = 'Data/items_titles.csv', n = 0, top = 2):\n",
    "    start_time = time.time()\n",
    "    #Muestra\n",
    "    items_df = pd.read_csv(ruta_entrada\n",
    "                           , encoding = 'UTF-8'\n",
    "                           )\n",
    "    items_df['ITE_ITEM_TITLE'] = items_df['ITE_ITEM_TITLE'].str.strip()\n",
    "    items_necesario_df = items_df[items_df['ITE_ITEM_TITLE']==item]\n",
    "    items_df = items_df.sample(len(items_df) if n == 0 else n)\n",
    "    items_df = pd.concat([items_df, items_necesario_df]).drop_duplicates().reset_index(drop=True)\n",
    "    \n",
    "    # Generar columna de texto procesado\n",
    "    items_df['processed_titles'] = items_df['ITE_ITEM_TITLE'].str.lower().str.replace('[^\\w\\s]', '', regex=True)\n",
    "    \n",
    "    # Pasar elementos de la oración a listas\n",
    "    items_df['processed_titles_list'] = items_df['processed_titles'].str.split()\n",
    "    items_list = items_df['processed_titles_list'].to_list()\n",
    "    \n",
    "    # Generacion de modelo\n",
    "    modelo = Word2Vec(items_df['processed_titles'].tolist()\n",
    "                      , vector_size=100\n",
    "                      , window=7\n",
    "                      , min_count=5\n",
    "                      , workers=12\n",
    "                     )\n",
    "    \n",
    "    # Mapear vector para cada item\n",
    "    items_df['vector'] = items_df['processed_titles'].apply(lambda x: np.mean([modelo.wv[word] for word in x if word in modelo.wv], axis=0))\n",
    "    vectors = np.stack(items_df['vector'].values)\n",
    "    \n",
    "    # Calcular la matriz de similitud del coseno\n",
    "    cosine_sim_matrix = cosine_similarity(vectors)\n",
    "    \n",
    "    # Obtener dataframe de simulitudes entre productos\n",
    "    cosine_sim_df = pd.DataFrame(cosine_sim_matrix, index=items_df[items_df.columns[0]], columns=items_df[items_df.columns[0]])\n",
    "    \n",
    "    # Devolver top de valores necesarios\n",
    "    df_respuesta = pd.DataFrame(cosine_sim_df[item].sort_values(ascending=False)[1:top+1]).reset_index().rename(columns={'ITE_ITEM_TITLE':'ITE_ITEM_TITLE_2'\n",
    "                                                                                                                        ,f'{item}':'SCORE_SIMILITUD'\n",
    "                                                                                                                        }\n",
    "                                                                                                               )\n",
    "    df_respuesta['ITE_ITEM_TITLE_1'] = item\n",
    "    df_respuesta = df_respuesta[['ITE_ITEM_TITLE_1', 'ITE_ITEM_TITLE_2', 'SCORE_SIMILITUD']]\n",
    "    end_time = time.time()\n",
    "    \n",
    "    return(df_respuesta, (end_time - start_time))"
   ]
  },
  {
   "cell_type": "code",
   "execution_count": 4,
   "id": "ca2decc8-94a2-42ce-84d3-e0cfb709f99d",
   "metadata": {},
   "outputs": [],
   "source": [
    "df_rendimiento = pd.DataFrame(columns=['modelo', 'tamano_muestra', 'tiempo', 'std_tiempo'])\n",
    "for i in tamanos_muestras:\n",
    "    tiempos = []\n",
    "    for j in regs_prueba:\n",
    "        tiempos = tiempos + [similitud_word_embedding(item = j, n = i)[1]]\n",
    "    df_rendimiento = pd.concat([df_rendimiento\n",
    "                                , pd.DataFrame({'modelo':['Word Embedding']\n",
    "                                                , 'tamano_muestra':[int(i)]\n",
    "                                                , 'tiempo':[np.mean(tiempos)]\n",
    "                                                , 'std_tiempo':[np.std(tiempos)]\n",
    "                                               }\n",
    "                                              )\n",
    "                               ]\n",
    "                               , axis = 0\n",
    "                              ).reset_index(drop=True)"
   ]
  },
  {
   "cell_type": "markdown",
   "id": "f6ff1044-bd20-4b2e-9dcb-427e0a5b867f",
   "metadata": {},
   "source": [
    "## TF-IDF"
   ]
  },
  {
   "cell_type": "code",
   "execution_count": 5,
   "id": "685e7b5f-efea-4b15-801d-2c81fbdd2f9b",
   "metadata": {},
   "outputs": [],
   "source": [
    "def similitud_td_idf(item, ruta_entrada = 'Data/items_titles.csv', n = 0, top = 2):\n",
    "    start_time = time.time()\n",
    "    #Muestra\n",
    "    items_df = pd.read_csv(ruta_entrada\n",
    "                           , encoding = 'UTF-8'\n",
    "                           )\n",
    "    items_df['ITE_ITEM_TITLE'] = items_df['ITE_ITEM_TITLE'].str.strip()\n",
    "    items_necesario_df = items_df[items_df['ITE_ITEM_TITLE']==item]\n",
    "    items_df = items_df.sample(len(items_df) if n == 0 else n)\n",
    "    items_df = pd.concat([items_df, items_necesario_df]).drop_duplicates()\n",
    "\n",
    "    # Generar columna de texto procesado\n",
    "    items_df['processed_titles'] = items_df['ITE_ITEM_TITLE'].str.lower().str.replace('[^\\w\\s]', '', regex=True)\n",
    "    \n",
    "    # Vectorización TF-IDF\n",
    "    vectorizer = TfidfVectorizer()\n",
    "    tfidf_matrix = vectorizer.fit_transform(items_df['processed_titles'])\n",
    "    \n",
    "    # Calcular la matriz de similitud del coseno\n",
    "    cosine_sim_matrix = cosine_similarity(tfidf_matrix)\n",
    "    \n",
    "    # Obtener dataframe de simulitudes entre productos\n",
    "    cosine_sim_df = pd.DataFrame(cosine_sim_matrix, index=items_df[items_df.columns[0]], columns=items_df[items_df.columns[0]])\n",
    "    \n",
    "    # Devolver top de valores necesarios\n",
    "    df_respuesta = pd.DataFrame(cosine_sim_df[item].sort_values(ascending=False)[1:top+1]).reset_index().rename(columns={'ITE_ITEM_TITLE':'ITE_ITEM_TITLE_2'\n",
    "                                                                                                                        ,f'{item}':'SCORE_SIMILITUD'\n",
    "                                                                                                                        }\n",
    "                                                                                                               )\n",
    "    df_respuesta['ITE_ITEM_TITLE_1'] = item\n",
    "    df_respuesta = df_respuesta[['ITE_ITEM_TITLE_1', 'ITE_ITEM_TITLE_2', 'SCORE_SIMILITUD']]\n",
    "    end_time = time.time()\n",
    "\n",
    "    return(df_respuesta, (end_time - start_time))"
   ]
  },
  {
   "cell_type": "code",
   "execution_count": 6,
   "id": "bab44915-081a-422a-b24b-6c31dc56d21c",
   "metadata": {},
   "outputs": [],
   "source": [
    "for i in tamanos_muestras:\n",
    "    tiempos = []\n",
    "    for j in regs_prueba:\n",
    "        tiempos = tiempos + [similitud_td_idf(item = j, n = i)[1]]\n",
    "    df_rendimiento = pd.concat([df_rendimiento\n",
    "                                , pd.DataFrame({'modelo':['TD-IDF']\n",
    "                                                , 'tamano_muestra':[int(i)]\n",
    "                                                , 'tiempo':[np.mean(tiempos)]\n",
    "                                                , 'std_tiempo':[np.std(tiempos)]\n",
    "                                               }\n",
    "                                              )\n",
    "                               ]\n",
    "                               , axis = 0\n",
    "                              ).reset_index(drop=True)"
   ]
  },
  {
   "cell_type": "markdown",
   "id": "ac2aaf11-6a41-4a72-bfeb-90566301ed48",
   "metadata": {},
   "source": [
    "## Escalamiento"
   ]
  },
  {
   "cell_type": "code",
   "execution_count": 7,
   "id": "7ca3234c-21a7-4352-8b9f-8969db66f19d",
   "metadata": {
    "tags": []
   },
   "outputs": [
    {
     "name": "stdout",
     "output_type": "stream",
     "text": [
      "<class 'pandas.core.frame.DataFrame'>\n",
      "RangeIndex: 22 entries, 0 to 21\n",
      "Data columns (total 4 columns):\n",
      " #   Column          Non-Null Count  Dtype  \n",
      "---  ------          --------------  -----  \n",
      " 0   modelo          22 non-null     object \n",
      " 1   tamano_muestra  22 non-null     object \n",
      " 2   tiempo          22 non-null     float64\n",
      " 3   std_tiempo      22 non-null     float64\n",
      "dtypes: float64(2), object(2)\n",
      "memory usage: 836.0+ bytes\n"
     ]
    }
   ],
   "source": [
    "df_rendimiento.info()"
   ]
  },
  {
   "cell_type": "code",
   "execution_count": 8,
   "id": "f5245816-5eb3-48ca-bbf7-ed1125157cb1",
   "metadata": {
    "tags": []
   },
   "outputs": [
    {
     "data": {
      "image/png": "[encoded data removed]",
      "text/plain": [
       "<Figure size 640x480 with 1 Axes>"
      ]
     },
     "metadata": {},
     "output_type": "display_data"
    }
   ],
   "source": [
    "df_rendimiento['tamano_muestra'] = pd.to_numeric(df_rendimiento['tamano_muestra'])\n",
    "ax = sns.lineplot(data=df_rendimiento,\n",
    "                  x='tamano_muestra',\n",
    "                  y='tiempo',\n",
    "                  hue='modelo',\n",
    "                  style='modelo',\n",
    "                  markers=True,\n",
    "                  dashes=False)\n",
    "\n",
    "# Sombreado desvest\n",
    "\n",
    "for modelo in ['Word Embedding', 'TD-IDF']:\n",
    "    df_subset = df_rendimiento[df_rendimiento['modelo'] == modelo]\n",
    "    x = df_subset['tamano_muestra']\n",
    "    y = df_subset['tiempo']\n",
    "    sigma = df_subset['std_tiempo']\n",
    "    lower_bound = y - sigma\n",
    "    upper_bound = y + sigma\n",
    "    \n",
    "    ax.fill_between(x, lower_bound, upper_bound, alpha=0.3)\n",
    "\n",
    "# Añadir títulos y etiquetas\n",
    "ax.set_title('Rendimiento Dependiendo del Tamaño de la Búsqueda')\n",
    "ax.set_ylabel('Tiempo (Segundos)')\n",
    "ax.set_xlabel('Tamaño de la Muestra')\n",
    "\n",
    "# Mostrar el gráfico\n",
    "plt.show()"
   ]
  },
  {
   "cell_type": "markdown",
   "id": "4f339f45-91ba-4056-9568-f98ad1b46f73",
   "metadata": {},
   "source": [
    "## Herramienta para testeo"
   ]
  },
  {
   "cell_type": "code",
   "execution_count": 9,
   "id": "9a72eecc-2000-4d88-822a-919f9c1822b9",
   "metadata": {},
   "outputs": [
    {
     "name": "stdout",
     "output_type": "stream",
     "text": [
      "CPU times: total: 719 ms\n",
      "Wall time: 769 ms\n"
     ]
    },
    {
     "data": {
      "text/html": [
       "<div>\n",
       "<style scoped>\n",
       "    .dataframe tbody tr th:only-of-type {\n",
       "        vertical-align: middle;\n",
       "    }\n",
       "\n",
       "    .dataframe tbody tr th {\n",
       "        vertical-align: top;\n",
       "    }\n",
       "\n",
       "    .dataframe thead th {\n",
       "        text-align: right;\n",
       "    }\n",
       "</style>\n",
       "<table border=\"1\" class=\"dataframe\">\n",
       "  <thead>\n",
       "    <tr style=\"text-align: right;\">\n",
       "      <th></th>\n",
       "      <th>ITE_ITEM_TITLE_1</th>\n",
       "      <th>ITE_ITEM_TITLE_2</th>\n",
       "      <th>SCORE_SIMILITUD</th>\n",
       "    </tr>\n",
       "  </thead>\n",
       "  <tbody>\n",
       "    <tr>\n",
       "      <th>0</th>\n",
       "      <td>Sapatênis 45116 Levecomfort Em Couro</td>\n",
       "      <td>Sapatênis Masculino Ranster Casual Em Couro</td>\n",
       "      <td>0.312492</td>\n",
       "    </tr>\n",
       "    <tr>\n",
       "      <th>1</th>\n",
       "      <td>Sapatênis 45116 Levecomfort Em Couro</td>\n",
       "      <td>Tênis Casual Em Couro Branco</td>\n",
       "      <td>0.302007</td>\n",
       "    </tr>\n",
       "  </tbody>\n",
       "</table>\n",
       "</div>"
      ],
      "text/plain": [
       "                       ITE_ITEM_TITLE_1  \\\n",
       "0  Sapatênis 45116 Levecomfort Em Couro   \n",
       "1  Sapatênis 45116 Levecomfort Em Couro   \n",
       "\n",
       "                              ITE_ITEM_TITLE_2  SCORE_SIMILITUD  \n",
       "0  Sapatênis Masculino Ranster Casual Em Couro         0.312492  \n",
       "1                 Tênis Casual Em Couro Branco         0.302007  "
      ]
     },
     "execution_count": 9,
     "metadata": {},
     "output_type": "execute_result"
    }
   ],
   "source": [
    "%%time\n",
    "resultado = similitud_td_idf(item = 'Sapatênis 45116 Levecomfort Em Couro'\n",
    "                             , ruta_entrada = 'Data/items_titles_test.csv'\n",
    "                             , top = 2\n",
    "                            )[0]\n",
    "\n",
    "resultado"
   ]
  },
  {
   "cell_type": "code",
   "execution_count": 10,
   "id": "7a330a46-9ee2-4723-8412-5591c0d9e5e6",
   "metadata": {
    "tags": []
   },
   "outputs": [
    {
     "name": "stdout",
     "output_type": "stream",
     "text": [
      "CPU times: total: 2.8 s\n",
      "Wall time: 1.12 s\n"
     ]
    },
    {
     "data": {
      "text/html": [
       "<div>\n",
       "<style scoped>\n",
       "    .dataframe tbody tr th:only-of-type {\n",
       "        vertical-align: middle;\n",
       "    }\n",
       "\n",
       "    .dataframe tbody tr th {\n",
       "        vertical-align: top;\n",
       "    }\n",
       "\n",
       "    .dataframe thead th {\n",
       "        text-align: right;\n",
       "    }\n",
       "</style>\n",
       "<table border=\"1\" class=\"dataframe\">\n",
       "  <thead>\n",
       "    <tr style=\"text-align: right;\">\n",
       "      <th></th>\n",
       "      <th>ITE_ITEM_TITLE_1</th>\n",
       "      <th>ITE_ITEM_TITLE_2</th>\n",
       "      <th>SCORE_SIMILITUD</th>\n",
       "    </tr>\n",
       "  </thead>\n",
       "  <tbody>\n",
       "    <tr>\n",
       "      <th>0</th>\n",
       "      <td>Sapatênis 45116 Levecomfort Em Couro</td>\n",
       "      <td>Tênis Casual Feminino Comfortflex Com Textura ...</td>\n",
       "      <td>0.982361</td>\n",
       "    </tr>\n",
       "    <tr>\n",
       "      <th>1</th>\n",
       "      <td>Sapatênis 45116 Levecomfort Em Couro</td>\n",
       "      <td>Tênis Pegada Em Couro Feminino Flatform - Crem...</td>\n",
       "      <td>0.981387</td>\n",
       "    </tr>\n",
       "  </tbody>\n",
       "</table>\n",
       "</div>"
      ],
      "text/plain": [
       "                       ITE_ITEM_TITLE_1  \\\n",
       "0  Sapatênis 45116 Levecomfort Em Couro   \n",
       "1  Sapatênis 45116 Levecomfort Em Couro   \n",
       "\n",
       "                                    ITE_ITEM_TITLE_2  SCORE_SIMILITUD  \n",
       "0  Tênis Casual Feminino Comfortflex Com Textura ...         0.982361  \n",
       "1  Tênis Pegada Em Couro Feminino Flatform - Crem...         0.981387  "
      ]
     },
     "execution_count": 10,
     "metadata": {},
     "output_type": "execute_result"
    }
   ],
   "source": [
    "%%time\n",
    "resultado = similitud_word_embedding(item = 'Sapatênis 45116 Levecomfort Em Couro'\n",
    "                                     , ruta_entrada = 'Data/items_titles_test.csv'\n",
    "                                     , top = 2\n",
    "                                    )[0]\n",
    "\n",
    "resultado"
   ]
  }
 ],
 "metadata": {
  "kernelspec": {
   "display_name": "Python 3 (ipykernel)",
   "language": "python",
   "name": "python3"
  },
  "language_info": {
   "codemirror_mode": {
    "name": "ipython",
    "version": 3
   },
   "file_extension": ".py",
   "mimetype": "text/x-python",
   "name": "python",
   "nbconvert_exporter": "python",
   "pygments_lexer": "ipython3",
   "version": "3.11.5"
  }
 },
 "nbformat": 4,
 "nbformat_minor": 5
}
