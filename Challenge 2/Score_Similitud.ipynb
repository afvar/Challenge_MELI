{
 "cells": [
  {
   "cell_type": "raw",
   "id": "0399d650-163e-4b68-9668-b43bdcd7da9b",
   "metadata": {},
   "source": [
    "# Instalación de Librerías\n",
    "pip install -r requirements.txt"
   ]
  },
  {
   "cell_type": "code",
   "execution_count": 1,
   "id": "47345bc0-3368-4f7b-b71f-bd97e709f0d4",
   "metadata": {},
   "outputs": [],
   "source": [
    "# Librerías\n",
    "import pandas as pd\n",
    "import numpy as np\n",
    "from sklearn.feature_extraction.text import TfidfVectorizer\n",
    "from sklearn.metrics.pairwise import cosine_similarity\n",
    "from gensim.models import Word2Vec"
   ]
  },
  {
   "cell_type": "markdown",
   "id": "caae91eb-5279-4a84-b357-d4097c0fda45",
   "metadata": {},
   "source": [
    "# Lectura de Datos"
   ]
  },
  {
   "cell_type": "code",
   "execution_count": 2,
   "id": "f40dd969-745a-40cc-bb66-b6ea7df9a017",
   "metadata": {},
   "outputs": [],
   "source": [
    "items_df = pd.read_csv('Data/items_titles.csv'\n",
    "                       , encoding = 'UTF-8'\n",
    "                      )"
   ]
  },
  {
   "cell_type": "code",
   "execution_count": 3,
   "id": "4a87ed4b-2813-4a6b-9054-8f5d7d7a85be",
   "metadata": {},
   "outputs": [],
   "source": [
    "# Generar columna de texto procesado\n",
    "items_df['processed_titles'] = items_df['ITE_ITEM_TITLE'].str.lower().str.replace('[^\\w\\s]', '', regex=True)"
   ]
  },
  {
   "cell_type": "code",
   "execution_count": 4,
   "id": "40a2a78a-2e60-4fbb-bbc3-516a1f1c0760",
   "metadata": {},
   "outputs": [
    {
     "data": {
      "text/html": [
       "<div>\n",
       "<style scoped>\n",
       "    .dataframe tbody tr th:only-of-type {\n",
       "        vertical-align: middle;\n",
       "    }\n",
       "\n",
       "    .dataframe tbody tr th {\n",
       "        vertical-align: top;\n",
       "    }\n",
       "\n",
       "    .dataframe thead th {\n",
       "        text-align: right;\n",
       "    }\n",
       "</style>\n",
       "<table border=\"1\" class=\"dataframe\">\n",
       "  <thead>\n",
       "    <tr style=\"text-align: right;\">\n",
       "      <th></th>\n",
       "      <th>ITE_ITEM_TITLE</th>\n",
       "      <th>processed_titles</th>\n",
       "    </tr>\n",
       "  </thead>\n",
       "  <tbody>\n",
       "    <tr>\n",
       "      <th>0</th>\n",
       "      <td>Tênis Ascension Posh Masculino - Preto E Verme...</td>\n",
       "      <td>tênis ascension posh masculino  preto e vermelho</td>\n",
       "    </tr>\n",
       "    <tr>\n",
       "      <th>1</th>\n",
       "      <td>Tenis Para Caminhada Super Levinho Spider Corr...</td>\n",
       "      <td>tenis para caminhada super levinho spider corr...</td>\n",
       "    </tr>\n",
       "    <tr>\n",
       "      <th>2</th>\n",
       "      <td>Tênis Feminino Le Parc Hocks Black/ice Origina...</td>\n",
       "      <td>tênis feminino le parc hocks blackice original...</td>\n",
       "    </tr>\n",
       "    <tr>\n",
       "      <th>3</th>\n",
       "      <td>Tênis Olympikus Esportivo Academia Nova Tendên...</td>\n",
       "      <td>tênis olympikus esportivo academia nova tendên...</td>\n",
       "    </tr>\n",
       "    <tr>\n",
       "      <th>4</th>\n",
       "      <td>Inteligente Led Bicicleta Tauda Luz Usb Bicicl...</td>\n",
       "      <td>inteligente led bicicleta tauda luz usb bicicl...</td>\n",
       "    </tr>\n",
       "  </tbody>\n",
       "</table>\n",
       "</div>"
      ],
      "text/plain": [
       "                                      ITE_ITEM_TITLE  \\\n",
       "0  Tênis Ascension Posh Masculino - Preto E Verme...   \n",
       "1  Tenis Para Caminhada Super Levinho Spider Corr...   \n",
       "2  Tênis Feminino Le Parc Hocks Black/ice Origina...   \n",
       "3  Tênis Olympikus Esportivo Academia Nova Tendên...   \n",
       "4  Inteligente Led Bicicleta Tauda Luz Usb Bicicl...   \n",
       "\n",
       "                                    processed_titles  \n",
       "0  tênis ascension posh masculino  preto e vermelho   \n",
       "1  tenis para caminhada super levinho spider corr...  \n",
       "2  tênis feminino le parc hocks blackice original...  \n",
       "3  tênis olympikus esportivo academia nova tendên...  \n",
       "4  inteligente led bicicleta tauda luz usb bicicl...  "
      ]
     },
     "execution_count": 4,
     "metadata": {},
     "output_type": "execute_result"
    }
   ],
   "source": [
    "items_df.head(5)"
   ]
  },
  {
   "cell_type": "markdown",
   "id": "1d3e5e9b-2c67-44a4-9375-62a59872e297",
   "metadata": {},
   "source": [
    "## Word Embeddings"
   ]
  },
  {
   "cell_type": "code",
   "execution_count": 5,
   "id": "fccbb8d7-6d30-4098-a8fd-5357a778d28a",
   "metadata": {},
   "outputs": [],
   "source": [
    "# Pasar elemntos de la oración a listas\n",
    "items_df['processed_titles_list'] = items_df['processed_titles'].str.split()\n",
    "items_list = items_df['processed_titles_list'].to_list()"
   ]
  },
  {
   "cell_type": "code",
   "execution_count": 6,
   "id": "951d92e9-b803-4647-ab89-1fce27a6527f",
   "metadata": {},
   "outputs": [],
   "source": [
    "# Generacion de modelo\n",
    "modelo = Word2Vec(items_df['processed_titles'].tolist()\n",
    "                  , vector_size=100\n",
    "                  , window=7\n",
    "                  , min_count=3\n",
    "                  , workers=12\n",
    "                 )\n",
    "modelo.save(\"word2vec.modelo_00\")"
   ]
  },
  {
   "cell_type": "code",
   "execution_count": 7,
   "id": "6d2b67e6-f0a3-47e8-bdbf-d201748c9a88",
   "metadata": {},
   "outputs": [],
   "source": [
    "# Mapear vector para cada item\n",
    "\n",
    "items_df['vector'] = items_df['processed_titles'].apply(lambda x: np.mean([modelo.wv[word] for word in x if word in modelo.wv], axis=0)) "
   ]
  },
  {
   "cell_type": "code",
   "execution_count": 8,
   "id": "0c2b4528-4f58-4602-a949-f7eaabec9fa8",
   "metadata": {},
   "outputs": [],
   "source": [
    "vectors = np.stack(items_df['vector'].values)\n",
    "\n",
    "# Calcular la matriz de similitud del coseno\n",
    "cosine_sim_matrix = cosine_similarity(vectors)\n",
    "\n",
    "# Opcional: Convertir la matriz de similitud del coseno a un DataFrame para una mejor visualización\n",
    "cosine_sim_df = pd.DataFrame(cosine_sim_matrix, index=items_df[items_df.columns[0]], columns=items_df[items_df.columns[0]])\n"
   ]
  },
  {
   "cell_type": "code",
   "execution_count": 9,
   "id": "ca2decc8-94a2-42ce-84d3-e0cfb709f99d",
   "metadata": {},
   "outputs": [
    {
     "data": {
      "text/plain": [
       "ITE_ITEM_TITLE\n",
       "Tenis Botinha Com Pelo Via Marte Original Lançamento           1.000000\n",
       "Botinha Com Pelo Tenis Via Marte Outono Inverno Lançamento     0.992257\n",
       "Tenis Moleca Feminino Camurça Sapato Original + Brinde         0.989448\n",
       "Tenis Masculino Polo Open Original Barato Envio Imediato       0.989260\n",
       "Tenis Masculino Barato Academia Esportivo Leve Lançamento      0.988686\n",
       "                                                                 ...   \n",
       "Tenis Kidy Colors  009-0857-0312 009-0857-0312                -0.234610\n",
       "Pegada 15505 38/43                                            -0.236634\n",
       "Tenis Klin Jump -pink 244.022000-000334                       -0.236957\n",
       "Slip On Klin New Sport  199.075000-000143 199.075000-000143   -0.254822\n",
       "Tenis Klin Freestyle  260.043000-000001 260.043000-000001     -0.254945\n",
       "Name: Tenis Botinha Com Pelo Via Marte Original Lançamento, Length: 30000, dtype: float32"
      ]
     },
     "execution_count": 9,
     "metadata": {},
     "output_type": "execute_result"
    }
   ],
   "source": [
    "cosine_sim_df['Tenis Botinha Com Pelo Via Marte Original Lançamento'].sort_values(ascending=False)"
   ]
  },
  {
   "cell_type": "markdown",
   "id": "f6ff1044-bd20-4b2e-9dcb-427e0a5b867f",
   "metadata": {},
   "source": [
    "## TF-IDF"
   ]
  },
  {
   "cell_type": "code",
   "execution_count": null,
   "id": "ccc61418-8e9b-4f58-b7a6-99893a3d2a5d",
   "metadata": {},
   "outputs": [],
   "source": []
  }
 ],
 "metadata": {
  "kernelspec": {
   "display_name": "Python 3 (ipykernel)",
   "language": "python",
   "name": "python3"
  },
  "language_info": {
   "codemirror_mode": {
    "name": "ipython",
    "version": 3
   },
   "file_extension": ".py",
   "mimetype": "text/x-python",
   "name": "python",
   "nbconvert_exporter": "python",
   "pygments_lexer": "ipython3",
   "version": "3.8.18"
  }
 },
 "nbformat": 4,
 "nbformat_minor": 5
}
