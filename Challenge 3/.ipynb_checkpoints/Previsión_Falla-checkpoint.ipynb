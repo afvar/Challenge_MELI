{
 "cells": [
  {
   "cell_type": "raw",
   "id": "71703ef5-3553-43c3-8eb8-75792f19fc7b",
   "metadata": {},
   "source": [
    "# Instalación de Librerías\n",
    "pip install -r requirements.txt"
   ]
  },
  {
   "cell_type": "code",
   "execution_count": null,
   "id": "35db26a7-eed3-47ec-8e68-8d1c00322d2a",
   "metadata": {
    "tags": []
   },
   "outputs": [],
   "source": [
    "# Librerías\n",
    "import warnings\n",
    "import pandas as pd\n",
    "import numpy as np\n",
    "import itertools\n",
    "import matplotlib.pyplot as plt\n",
    "import seaborn as sns\n",
    "from sklearn.preprocessing import StandardScaler\n",
    "import time\n",
    "import pmdarima as pm\n",
    "from sklearn.metrics import mean_squared_error\n",
    "from sklearn.metrics import accuracy_score, precision_score, recall_score, f1_score, roc_auc_score\n",
    "\n",
    "from datetime import datetime\n",
    "pd.set_option('display.max_columns', None)\n",
    "warnings.filterwarnings('ignore')"
   ]
  },
  {
   "cell_type": "markdown",
   "id": "c07f945e-7088-45b8-97ec-c5888e1edfd0",
   "metadata": {},
   "source": [
    "# Preparación de datos"
   ]
  },
  {
   "cell_type": "code",
   "execution_count": null,
   "id": "b9fb2433-c255-4f17-b26e-5589ffdaa8cd",
   "metadata": {
    "tags": []
   },
   "outputs": [],
   "source": [
    "disp_df = pd.read_csv('Data/full_devices.csv'\n",
    "                      , encoding = 'ISO-8859-1'\n",
    "                     )"
   ]
  },
  {
   "cell_type": "code",
   "execution_count": null,
   "id": "879f34d1-fc11-4384-a2ac-f8e62cd1bd83",
   "metadata": {
    "tags": []
   },
   "outputs": [],
   "source": [
    "# Modificación tipo de datos de fecha\n",
    "disp_df['date'] = pd.to_datetime(disp_df['date'])\n",
    "disp_df['failure'] = pd.to_numeric(disp_df['failure'])\n",
    "\n",
    "# Quitar filas duplicadas\n",
    "print(disp_df.shape)\n",
    "disp_df = disp_df.drop_duplicates()\n",
    "print(disp_df.shape)\n",
    "\n",
    "# Eliminar registros después del fallo\n",
    "\n",
    "fallos = disp_df[disp_df['failure'] == 1][['device', 'date']]\n",
    "\n",
    "for index, row in fallos.iterrows():\n",
    "    disp_df = disp_df[~((disp_df['device'] == row['device']) & (disp_df['date'] > row['date']))]\n",
    "\n",
    "print(disp_df.shape)"
   ]
  },
  {
   "cell_type": "markdown",
   "id": "32fa0455-0ec2-4288-8020-fc5056d67719",
   "metadata": {},
   "source": [
    "## Missing Data"
   ]
  },
  {
   "cell_type": "code",
   "execution_count": null,
   "id": "ae57e568-5db6-4544-bf16-e992a4495fbd",
   "metadata": {
    "tags": []
   },
   "outputs": [],
   "source": [
    "# Missing Data\n",
    "\n",
    "unique_dates = disp_df['date'].sort_values().unique()\n",
    "unique_devices = disp_df['device'].unique()\n",
    "all_combinations = pd.DataFrame(list(itertools.product(unique_dates, unique_devices)), columns=['date', 'device'])\n",
    "\n",
    "disp_df = all_combinations.merge(disp_df, on=['date', 'device'], how='left')\n",
    "\n",
    "last_date_reported = disp_df[~disp_df['failure'].isna()].groupby('device')['date'].max().reset_index()\n",
    "last_date_reported.rename(columns={'date': 'last_date_reported'}, inplace=True)\n",
    "\n",
    "disp_df = disp_df.merge(last_date_reported, on='device')\n",
    "disp_df = disp_df[disp_df['date'] <= disp_df['last_date_reported']]\n",
    "disp_df = disp_df.drop(columns=['last_date_reported'])"
   ]
  },
  {
   "cell_type": "code",
   "execution_count": null,
   "id": "2ec4250f-210b-494d-9b20-fc56b996726e",
   "metadata": {},
   "outputs": [],
   "source": [
    "disp_df.isna().mean()"
   ]
  },
  {
   "cell_type": "code",
   "execution_count": null,
   "id": "6006ab3b-3f6d-4f72-a6d4-6959a23333fb",
   "metadata": {
    "tags": []
   },
   "outputs": [],
   "source": [
    "# Contar la cantidad de registros por día\n",
    "daily_counts = disp_df.groupby('date')['failure'].agg('count').sort_index()\n",
    "tick_indices = [0, len(daily_counts) // 2, len(daily_counts) - 1]\n",
    "tick_labels = [daily_counts.index[i].strftime('%Y-%m') for i in tick_indices]\n",
    "\n",
    "\n",
    "# Crear el gráfico de barras\n",
    "plt.figure(figsize=(12, 6))\n",
    "daily_counts.plot(kind='bar', color='skyblue')\n",
    "plt.title('Cantidad de Registros de Failure por Día')\n",
    "plt.xlabel('Fecha')\n",
    "plt.ylabel('Cantidad de Registros')\n",
    "plt.xticks(tick_indices, tick_labels, rotation=45)\n",
    "plt.tight_layout()\n",
    "\n",
    "# Mostrar el gráfico\n",
    "plt.show()\n"
   ]
  },
  {
   "cell_type": "code",
   "execution_count": null,
   "id": "1b90a972-eb2e-4602-ac10-c879fe9d8746",
   "metadata": {
    "tags": []
   },
   "outputs": [],
   "source": [
    "# Para valores na de fallo imputar 0\n",
    "\n",
    "disp_df['failure'] = disp_df['failure'].fillna(0)\n",
    "\n",
    "# Para los demás utilizar una interpolación cuadrática\n",
    "\n",
    "disp_df.iloc[:, 3:] = disp_df.iloc[:, 3:].interpolate(method='quadratic')"
   ]
  },
  {
   "cell_type": "code",
   "execution_count": null,
   "id": "8558415d-af87-44eb-a136-388255cb714a",
   "metadata": {
    "tags": []
   },
   "outputs": [],
   "source": [
    "disp_df.isna().mean()"
   ]
  },
  {
   "cell_type": "code",
   "execution_count": null,
   "id": "ea67a14b-9fdd-4888-b86c-4ea3c70f22fe",
   "metadata": {
    "tags": []
   },
   "outputs": [],
   "source": [
    "sns.barplot(x=disp_df['device'].value_counts().value_counts().index[0:20]\n",
    "                , y=disp_df['device'].value_counts().value_counts()[0:20]\n",
    "                ,palette='Blues_d'\n",
    "               )"
   ]
  },
  {
   "cell_type": "code",
   "execution_count": null,
   "id": "fdafce0b-cfba-44d5-ba32-d998a36136fc",
   "metadata": {
    "tags": []
   },
   "outputs": [],
   "source": [
    "# Generar dataset para dispositivos nuevos y otro para con historial \n",
    "\n",
    "dispositivos_suficientes_datos = disp_df['device'].value_counts()\n",
    "dispositivos_suficientes_datos = dispositivos_suficientes_datos[dispositivos_suficientes_datos >= 8].index\n",
    "disp_nuevos_df = disp_df[~disp_df['device'].isin(dispositivos_suficientes_datos)].reset_index(drop = True)\n",
    "disp_hist_df = disp_df[disp_df['device'].isin(dispositivos_suficientes_datos)].reset_index(drop = True)\n",
    "\n",
    "print(disp_nuevos_df.shape[0], disp_hist_df.shape[0])"
   ]
  },
  {
   "cell_type": "code",
   "execution_count": null,
   "id": "28e03a5b-c931-4523-b0a6-155b8932bf6b",
   "metadata": {
    "tags": []
   },
   "outputs": [],
   "source": [
    "# Estandarizacion\n",
    "columnas_para_escalar = disp_df.select_dtypes(include=['int64', 'float64']).columns[1:]\n",
    "\n",
    "scaler = StandardScaler()\n",
    "disp_hist_df[columnas_para_escalar] = scaler.fit_transform(disp_hist_df[columnas_para_escalar])"
   ]
  },
  {
   "cell_type": "code",
   "execution_count": null,
   "id": "9736c493-db65-4850-ab2b-d2964635c191",
   "metadata": {
    "tags": []
   },
   "outputs": [],
   "source": [
    "# Generacion de variable objetivo\n",
    "disp_hist_df['next_day_failure'] = pd.to_numeric(disp_hist_df.groupby('device')['failure'].shift(-1).fillna(0))"
   ]
  },
  {
   "cell_type": "markdown",
   "id": "d24cbc19-5cd5-4481-97b9-a6739bdd99f7",
   "metadata": {
    "tags": []
   },
   "source": [
    "# EDA"
   ]
  },
  {
   "cell_type": "markdown",
   "id": "4b5d9724-b946-4a37-9cac-424a747ed827",
   "metadata": {},
   "source": [
    "Primero hacemos un eda general para revisar si hay relaciones entre los atributos"
   ]
  },
  {
   "cell_type": "code",
   "execution_count": null,
   "id": "601d6da9-0917-4793-9eb1-dd2224b40ec1",
   "metadata": {
    "tags": []
   },
   "outputs": [],
   "source": [
    "# Seleccionar solo las columnas numéricas para el análisis\n",
    "columnas_numericas = disp_hist_df.select_dtypes(include=['int64', 'float64']).columns\n",
    "\n",
    "# Calcular estadísticas descriptivas, incluyendo simetría (skewness) y curtosis\n",
    "numerical_summary = disp_hist_df[columnas_numericas].describe()\n",
    "skewness = disp_hist_df[columnas_numericas].skew()\n",
    "kurtosis = disp_hist_df[columnas_numericas].kurtosis()\n",
    "combined_stats = pd.concat([numerical_summary, pd.DataFrame(skewness, columns=['skewness']).T, pd.DataFrame(kurtosis, columns=['kurtosis']).T], axis=0)\n",
    "\n",
    "combined_stats"
   ]
  },
  {
   "cell_type": "code",
   "execution_count": null,
   "id": "b657c9b0-5337-4b94-a88f-76f349b4f650",
   "metadata": {
    "tags": []
   },
   "outputs": [],
   "source": [
    "# Correlación\n",
    "corr = disp_hist_df[columnas_numericas].corr()\n",
    "matrix = np.triu(corr)\n",
    "\n",
    "sns.set(style='whitegrid')\n",
    "\n",
    "plt.figure(figsize=(6, 3))\n",
    "sns.heatmap(corr\n",
    "            , annot=True\n",
    "            , mask=matrix\n",
    "            , fmt='.2f'\n",
    "            , cmap='Blues'\n",
    "           )\n",
    "plt.title('Matriz de Correlación', fontsize=12)\n",
    "plt.show()"
   ]
  },
  {
   "cell_type": "markdown",
   "id": "9d34021a-b3b1-4f63-827b-aeb9ff9e088b",
   "metadata": {},
   "source": [
    "Se elimina el atributo 8 debido a su correlacion perfecta con el atributo 7."
   ]
  },
  {
   "cell_type": "code",
   "execution_count": null,
   "id": "e856c7fb-2598-4405-a1bf-7382cdf839b0",
   "metadata": {
    "tags": []
   },
   "outputs": [],
   "source": [
    "disp_hist_df.drop('attribute8', axis=1, inplace=True)\n",
    "disp_hist_df = disp_hist_df.reset_index(drop = True)"
   ]
  },
  {
   "cell_type": "code",
   "execution_count": null,
   "id": "760f0ac6-86a2-4ace-9d14-9ec55df6bd71",
   "metadata": {
    "tags": []
   },
   "outputs": [],
   "source": [
    "columnas_numericas = disp_hist_df.select_dtypes(include=['int64', 'float64']).columns[1:9]\n",
    "\n",
    "\n",
    "media_diaria_atributos_y_fallo = disp_hist_df.groupby('date')[list(columnas_numericas) + ['next_day_failure']].mean()\n",
    "fig, axes = plt.subplots(len(columnas_numericas), 1, figsize=(12, 3 * len(columnas_numericas)))\n",
    "\n",
    "for i, atributo in enumerate(columnas_numericas):\n",
    "    \n",
    "    ax = axes[i]\n",
    "    ax2 = ax.twinx()\n",
    "    \n",
    "    # Gráfico de la serie temporal del atributo\n",
    "    ax.plot(media_diaria_atributos_y_fallo.index, media_diaria_atributos_y_fallo[atributo], label=f'{atributo} ', color='blue')\n",
    "    ax.set_ylabel(f'{atributo}', color='blue')\n",
    "    ax.tick_params(axis='y', labelcolor='blue')\n",
    "    \n",
    "    # Gráfico de la media de fallos del dia siguiente\n",
    "    ax2.plot(media_diaria_atributos_y_fallo.index, media_diaria_atributos_y_fallo['next_day_failure'], label='Fallos del Día Siguiente', color='red', linestyle='--')\n",
    "    ax2.set_ylabel('Fallos del Día Siguiente', color='red')\n",
    "    ax2.tick_params(axis='y', labelcolor='red')\n",
    "    \n",
    "    ax.set_title(f'Análisis Temporal de {atributo} con Media de Fallos')\n",
    "    ax.legend(loc='upper left')\n",
    "    ax2.legend(loc='upper right')\n",
    "\n",
    "plt.tight_layout()\n",
    "plt.show()\n"
   ]
  },
  {
   "cell_type": "code",
   "execution_count": null,
   "id": "e944beae-aca0-4ed8-bb31-11cb21a7a9d3",
   "metadata": {
    "tags": []
   },
   "outputs": [],
   "source": [
    "# Correlación\n",
    "corr = media_diaria_atributos_y_fallo.corr()\n",
    "matrix = np.triu(corr)\n",
    "\n",
    "sns.set(style='whitegrid')\n",
    "\n",
    "plt.figure(figsize=(6, 3))\n",
    "sns.heatmap(corr\n",
    "            , annot=True\n",
    "            , mask=matrix\n",
    "            , fmt='.2f'\n",
    "            , cmap='Blues'\n",
    "           )\n",
    "plt.title('Matriz de Correlación', fontsize=12)\n",
    "plt.show()"
   ]
  },
  {
   "cell_type": "markdown",
   "id": "13ae2341-8f8f-41a7-b958-41b68af590bc",
   "metadata": {},
   "source": [
    "# Análisis por dispositivo"
   ]
  },
  {
   "cell_type": "code",
   "execution_count": null,
   "id": "1cc41da4-8a02-4921-8f70-0cd7987c2f30",
   "metadata": {
    "tags": []
   },
   "outputs": [],
   "source": [
    "# Generar dataset por días de fallo\n",
    "\n",
    "#Dataset con fallo\n",
    "\n",
    "dias_de_fallo = disp_hist_df[disp_hist_df['failure'] == 1][['device', 'date']]\n",
    "\n",
    "dataset_fallo_60_dias = pd.DataFrame()\n",
    "\n",
    "for _, row in dias_de_fallo.iterrows():\n",
    "    device = row['device']\n",
    "    fallo_date = row['date']\n",
    "    start_date = fallo_date - pd.Timedelta(days=60)\n",
    "\n",
    "    registros = disp_hist_df[(disp_hist_df['device'] == device)\n",
    "                            & (disp_hist_df['date'] >= start_date)\n",
    "                            & (disp_hist_df['date'] <= fallo_date)\n",
    "                           ]\n",
    "    \n",
    "    dataset_fallo_60_dias = pd.concat([dataset_fallo_60_dias, registros], axis=0)\n",
    "\n",
    "dataset_fallo_60_dias.reset_index(drop=True, inplace=True)\n",
    "\n",
    "# Dataset sin fallo\n",
    "\n",
    "dispositivos_sin_fallo = disp_hist_df[~disp_hist_df['device'].isin(dias_de_fallo['device'])]['device'].unique()\n",
    "\n",
    "dataset_sin_fallo_60_dias = pd.DataFrame()\n",
    "\n",
    "for device in dispositivos_sin_fallo:\n",
    "    registros_device = disp_hist_df[disp_hist_df['device'] == device]\n",
    "\n",
    "    ultima_fecha = registros_device['date'].max()\n",
    "    fecha_inicio = ultima_fecha - pd.Timedelta(days=60)\n",
    "\n",
    "    registros = registros_device[(registros_device['date'] >= fecha_inicio) & \n",
    "                                 (registros_device['date'] <= ultima_fecha)]\n",
    "    \n",
    "    dataset_sin_fallo_60_dias = pd.concat([dataset_sin_fallo_60_dias, registros], axis=0)\n",
    "\n",
    "dataset_sin_fallo_60_dias.reset_index(drop=True, inplace=True)\n",
    "\n",
    "# Dataset final\n",
    "\n",
    "dataset_fallo_60_dias['tipo'] = 'Con Fallo'\n",
    "dataset_sin_fallo_60_dias['tipo'] = 'Sin Fallo'\n",
    "\n",
    "disp_esc_60_dias_df = pd.concat([dataset_fallo_60_dias, dataset_sin_fallo_60_dias], axis=0)\n",
    "\n",
    "disp_esc_60_dias_df = disp_esc_60_dias_df.sort_values(by='date').reset_index(drop=True)\n",
    "\n",
    "ultima_fecha_por_dispositivo = disp_esc_60_dias_df.groupby('device')['date'].max().reset_index()\n",
    "ultima_fecha_por_dispositivo.columns = ['device', 'last_day_reported']\n",
    "\n",
    "disp_esc_60_dias_df = disp_esc_60_dias_df.merge(ultima_fecha_por_dispositivo, on='device', how='left')\n",
    "\n",
    "disp_esc_60_dias_df['days_till_failure_or_last_report'] = pd.to_numeric((disp_esc_60_dias_df['last_day_reported'] - disp_esc_60_dias_df['date']).dt.days)"
   ]
  },
  {
   "cell_type": "code",
   "execution_count": null,
   "id": "1ba87d9e-3ced-4561-8cae-930decfb21a2",
   "metadata": {
    "tags": []
   },
   "outputs": [],
   "source": [
    "plt.figure(figsize=(15, 12))\n",
    "\n",
    "for i, var in enumerate(disp_esc_60_dias_df.columns[3:11]):\n",
    "    plt.subplot(4, 3, i + 1)\n",
    "    ax =sns.lineplot(data=disp_esc_60_dias_df\n",
    "                     ,x='days_till_failure_or_last_report'\n",
    "                     ,y=var\n",
    "                     ,hue='tipo'\n",
    "                    )\n",
    "    ax.invert_xaxis()\n",
    "    plt.title(var)\n",
    "    plt.ylabel('')\n",
    "\n",
    "plt.tight_layout()\n",
    "plt.show()"
   ]
  },
  {
   "cell_type": "markdown",
   "id": "c59e8dbb-5f12-407e-b767-7504e94015f5",
   "metadata": {},
   "source": [
    "Debido al comportamiento observado se modifican los atributos segun tres grupos identificados:\n",
    " - **Variables Constantes:** Los atributos 1 y 3 parecen tener una media constante inferior cuando van a fallar. (Estacionaria)\n",
    " - **Variables Crecimiento Constante:** El atributo 6 parece crecer de forma constante hasta la falla (pero a una escala inferior si no falla). (Estacionaria)\n",
    " - **Variables con Salto Constantes:** Los atributos 5 y 9 parecen tener un saldo entre los 30 y 40 días. Para estas se revisara la diferencia 40 dias antes. (No Estacionaria)\n",
    " - **Variables con Exponencial:** Los atributos 2, 4 y 7 parecen un aumento en los utlimos días que cada vez se acelera mas. (No Estacionaria)"
   ]
  },
  {
   "cell_type": "raw",
   "id": "7cf17b1a-d7a0-4823-9ae3-906013c8f79f",
   "metadata": {
    "tags": []
   },
   "source": [
    "for days in [15, 30, 45, 60]:\n",
    "    disp_esc_df[f'attribute6_{days}d'] = disp_esc_df.groupby('device')['attribute6'].shift(days)\n",
    "\n",
    "disp_esc_df['attribute5_40d_diff'] = disp_esc_df.groupby('device')['attribute5'].shift(40) - disp_esc_df['attribute5']\n",
    "disp_esc_df['attribute9_40d_diff'] = disp_esc_df.groupby('device')['attribute9'].shift(40) - disp_esc_df['attribute9']\n",
    "\n",
    "for days in [1, 5, 10]:\n",
    "    for attr in ['attribute2', 'attribute4', 'attribute7']:\n",
    "        disp_esc_df[f'{attr}_{days}d_diff'] = disp_esc_df.groupby('device')[attr].diff(periods=days)\n",
    "\n",
    "disp_esc_df = disp_esc_df.fillna(method='ffill')\n",
    "disp_esc_df = disp_esc_df.fillna(0)\n",
    "\n",
    "disp_esc_df.head(5)"
   ]
  },
  {
   "cell_type": "markdown",
   "id": "ed5e9ab7-2f06-4094-92fe-ca69a2bc050e",
   "metadata": {},
   "source": [
    "# Modelado"
   ]
  },
  {
   "cell_type": "markdown",
   "id": "1384d99f-41c8-47af-ba07-170e21f606e7",
   "metadata": {
    "tags": []
   },
   "source": [
    "## Generación de Input Serie de Tiempo"
   ]
  },
  {
   "cell_type": "code",
   "execution_count": null,
   "id": "7a6b1290-9089-4957-bcd2-007160cc396d",
   "metadata": {
    "tags": []
   },
   "outputs": [],
   "source": [
    "# ARIMA Atributos\n",
    "\n",
    "for atributo in [x for x in list(disp_hist_df.columns) if ('attr' in x) & ('lead' not in x)]:\n",
    "    for lead in ['lead1', 'lead2', 'lead3']:\n",
    "        disp_hist_df[atributo + '_' + lead] = np.nan\n",
    "    print('empieza atributo ', str(atributo))\n",
    "    start_time = time.time()\n",
    "    for device in disp_hist_df['device'].unique():\n",
    "        data_device = disp_hist_df[disp_hist_df['device'] == device][['date', atributo]].set_index('date')\n",
    "        for date in data_device.index:\n",
    "            time_delta_days = 10 if atributo in ['attribute2'\n",
    "                                                 ,'attribute4'\n",
    "                                                 ,'attribute7'\n",
    "                                                ] else 50 if atributo in ['attribute5'\n",
    "                                                                          ,'attribute9'\n",
    "                                                                         ] else 70 \n",
    "            train_data = data_device.loc[(date - pd.Timedelta(days=(time_delta_days))):date]\n",
    "            n = train_data.shape[0]\n",
    "            n_distinct = train_data[atributo].nunique()\n",
    "            \n",
    "            if (n_distinct > 1) & (n > 2):\n",
    "                model = pm.auto_arima(train_data\n",
    "                                      , seasonal=False\n",
    "                                      , stepwise=True\n",
    "                                      , suppress_warnings=True\n",
    "                                      , error_action='ignore'\n",
    "                                     )\n",
    "            \n",
    "            for i, lead in enumerate(['lead1', 'lead2', 'lead3']):\n",
    "                if (n_distinct > 1) & (n > 2):\n",
    "                    prediction = model.predict(n_periods=(i+1))\n",
    "                else:\n",
    "                    prediction = np.nan\n",
    "                \n",
    "                if isinstance(prediction, pd.Series):\n",
    "                    disp_hist_df.loc[(disp_hist_df['date'] == date) & (disp_hist_df['device'] == device)\n",
    "                                    , atributo + '_lead' + str(i+1)\n",
    "                                    ] = prediction.iloc[0]\n",
    "                elif isinstance(prediction, np.ndarray):\n",
    "                    disp_hist_df.loc[(disp_hist_df['date'] == date) & (disp_hist_df['device'] == device)\n",
    "                                     , atributo + '_lead' + str(i+1)\n",
    "                                    ] = prediction[0]\n",
    "                else:\n",
    "                    disp_hist_df.loc[(disp_hist_df['date'] == date) & (disp_hist_df['device'] == device)\n",
    "                                    , atributo + '_lead' + str(i+1)\n",
    "                                    ] = prediction\n",
    "            \n",
    "            end_time = time.time()\n",
    "    print('Atributo ', atributo, 'terminado en ', str(end_time - start_time), ' segundos')\n"
   ]
  }
 ],
 "metadata": {
  "kernelspec": {
   "display_name": "Python 3 (ipykernel)",
   "language": "python",
   "name": "python3"
  },
  "language_info": {
   "codemirror_mode": {
    "name": "ipython",
    "version": 3
   },
   "file_extension": ".py",
   "mimetype": "text/x-python",
   "name": "python",
   "nbconvert_exporter": "python",
   "pygments_lexer": "ipython3",
   "version": "3.11.5"
  }
 },
 "nbformat": 4,
 "nbformat_minor": 5
}
